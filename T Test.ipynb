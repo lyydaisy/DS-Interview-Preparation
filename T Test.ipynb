{
 "cells": [
  {
   "cell_type": "markdown",
   "id": "63f45204-472d-4c5a-984c-9e3eb1a9ef47",
   "metadata": {},
   "source": [
    "# README\n",
    "How to install Jupyter: https://jupyter.org/install \\\n",
    "Where to download the data: https://github.com/patiegm/Udacity_Data_Analysis_Nanodegree/tree/master/Analyze%20AB%20Test%20Results\n",
    "# Context\n",
    "Let's assume we run an experiment by randomly assigning users to treatment vs. control. While the users in treatment were exposed to the new page, the users in control still saw the old page. We want to understand whether the new page significantly improved user conversion defined by the percentage of users who converted after being exposed to the new vs. old page."
   ]
  },
  {
   "cell_type": "code",
   "execution_count": 1,
   "id": "b7dd16b5-1ed2-40c5-8973-779b212852c7",
   "metadata": {
    "tags": []
   },
   "outputs": [],
   "source": [
    "import pandas as pd\n",
    "from scipy import stats\n",
    "from scipy.stats import t\n",
    "import numpy as np\n",
    "import statsmodels.api as sm\n",
    "import statsmodels.stats.power as smp"
   ]
  },
  {
   "cell_type": "markdown",
   "id": "03baf2b3-0318-4205-b1b4-4256e2660b4c",
   "metadata": {
    "tags": []
   },
   "source": [
    "# Load Data"
   ]
  },
  {
   "cell_type": "code",
   "execution_count": 2,
   "id": "0545e7d4-2c68-4766-8bd4-87592578b10b",
   "metadata": {},
   "outputs": [],
   "source": [
    "data = pd.read_csv('ab_data.csv')"
   ]
  },
  {
   "cell_type": "code",
   "execution_count": 3,
   "id": "92c1069f-5c3c-4bd4-901c-373383e32297",
   "metadata": {},
   "outputs": [
    {
     "data": {
      "text/html": [
       "<div>\n",
       "<style scoped>\n",
       "    .dataframe tbody tr th:only-of-type {\n",
       "        vertical-align: middle;\n",
       "    }\n",
       "\n",
       "    .dataframe tbody tr th {\n",
       "        vertical-align: top;\n",
       "    }\n",
       "\n",
       "    .dataframe thead th {\n",
       "        text-align: right;\n",
       "    }\n",
       "</style>\n",
       "<table border=\"1\" class=\"dataframe\">\n",
       "  <thead>\n",
       "    <tr style=\"text-align: right;\">\n",
       "      <th></th>\n",
       "      <th>user_id</th>\n",
       "      <th>timestamp</th>\n",
       "      <th>group</th>\n",
       "      <th>landing_page</th>\n",
       "      <th>converted</th>\n",
       "    </tr>\n",
       "  </thead>\n",
       "  <tbody>\n",
       "    <tr>\n",
       "      <th>0</th>\n",
       "      <td>851104</td>\n",
       "      <td>2017-01-21 22:11:48.556739</td>\n",
       "      <td>control</td>\n",
       "      <td>old_page</td>\n",
       "      <td>0</td>\n",
       "    </tr>\n",
       "    <tr>\n",
       "      <th>1</th>\n",
       "      <td>804228</td>\n",
       "      <td>2017-01-12 08:01:45.159739</td>\n",
       "      <td>control</td>\n",
       "      <td>old_page</td>\n",
       "      <td>0</td>\n",
       "    </tr>\n",
       "    <tr>\n",
       "      <th>2</th>\n",
       "      <td>661590</td>\n",
       "      <td>2017-01-11 16:55:06.154213</td>\n",
       "      <td>treatment</td>\n",
       "      <td>new_page</td>\n",
       "      <td>0</td>\n",
       "    </tr>\n",
       "    <tr>\n",
       "      <th>3</th>\n",
       "      <td>853541</td>\n",
       "      <td>2017-01-08 18:28:03.143765</td>\n",
       "      <td>treatment</td>\n",
       "      <td>new_page</td>\n",
       "      <td>0</td>\n",
       "    </tr>\n",
       "    <tr>\n",
       "      <th>4</th>\n",
       "      <td>864975</td>\n",
       "      <td>2017-01-21 01:52:26.210827</td>\n",
       "      <td>control</td>\n",
       "      <td>old_page</td>\n",
       "      <td>1</td>\n",
       "    </tr>\n",
       "    <tr>\n",
       "      <th>...</th>\n",
       "      <td>...</td>\n",
       "      <td>...</td>\n",
       "      <td>...</td>\n",
       "      <td>...</td>\n",
       "      <td>...</td>\n",
       "    </tr>\n",
       "    <tr>\n",
       "      <th>294473</th>\n",
       "      <td>751197</td>\n",
       "      <td>2017-01-03 22:28:38.630509</td>\n",
       "      <td>control</td>\n",
       "      <td>old_page</td>\n",
       "      <td>0</td>\n",
       "    </tr>\n",
       "    <tr>\n",
       "      <th>294474</th>\n",
       "      <td>945152</td>\n",
       "      <td>2017-01-12 00:51:57.078372</td>\n",
       "      <td>control</td>\n",
       "      <td>old_page</td>\n",
       "      <td>0</td>\n",
       "    </tr>\n",
       "    <tr>\n",
       "      <th>294475</th>\n",
       "      <td>734608</td>\n",
       "      <td>2017-01-22 11:45:03.439544</td>\n",
       "      <td>control</td>\n",
       "      <td>old_page</td>\n",
       "      <td>0</td>\n",
       "    </tr>\n",
       "    <tr>\n",
       "      <th>294476</th>\n",
       "      <td>697314</td>\n",
       "      <td>2017-01-15 01:20:28.957438</td>\n",
       "      <td>control</td>\n",
       "      <td>old_page</td>\n",
       "      <td>0</td>\n",
       "    </tr>\n",
       "    <tr>\n",
       "      <th>294477</th>\n",
       "      <td>715931</td>\n",
       "      <td>2017-01-16 12:40:24.467417</td>\n",
       "      <td>treatment</td>\n",
       "      <td>new_page</td>\n",
       "      <td>0</td>\n",
       "    </tr>\n",
       "  </tbody>\n",
       "</table>\n",
       "<p>294478 rows × 5 columns</p>\n",
       "</div>"
      ],
      "text/plain": [
       "        user_id                   timestamp      group landing_page  converted\n",
       "0        851104  2017-01-21 22:11:48.556739    control     old_page          0\n",
       "1        804228  2017-01-12 08:01:45.159739    control     old_page          0\n",
       "2        661590  2017-01-11 16:55:06.154213  treatment     new_page          0\n",
       "3        853541  2017-01-08 18:28:03.143765  treatment     new_page          0\n",
       "4        864975  2017-01-21 01:52:26.210827    control     old_page          1\n",
       "...         ...                         ...        ...          ...        ...\n",
       "294473   751197  2017-01-03 22:28:38.630509    control     old_page          0\n",
       "294474   945152  2017-01-12 00:51:57.078372    control     old_page          0\n",
       "294475   734608  2017-01-22 11:45:03.439544    control     old_page          0\n",
       "294476   697314  2017-01-15 01:20:28.957438    control     old_page          0\n",
       "294477   715931  2017-01-16 12:40:24.467417  treatment     new_page          0\n",
       "\n",
       "[294478 rows x 5 columns]"
      ]
     },
     "execution_count": 3,
     "metadata": {},
     "output_type": "execute_result"
    }
   ],
   "source": [
    "data"
   ]
  },
  {
   "cell_type": "markdown",
   "id": "6cc913e0-652b-46f4-8bde-a58526b6f40a",
   "metadata": {},
   "source": [
    "# Clean Data"
   ]
  },
  {
   "cell_type": "code",
   "execution_count": 4,
   "id": "14b22584-5c0e-4d23-8fc4-ed56694620ae",
   "metadata": {},
   "outputs": [],
   "source": [
    "def check_mixed_assignment(df):\n",
    "    df1 = df[['user_id', 'group']].groupby(['user_id']).nunique().reset_index() \n",
    "    # count the unique number of groups that a user was assigned to\n",
    "    df2 = df1[df1['group'] > 1]['user_id'].count() \n",
    "    # count the number of users assigned to both groups\n",
    "    print(df2)"
   ]
  },
  {
   "cell_type": "code",
   "execution_count": 5,
   "id": "145cddbe-2b2e-4da0-9328-953b6bfd1960",
   "metadata": {},
   "outputs": [
    {
     "name": "stdout",
     "output_type": "stream",
     "text": [
      "1895\n"
     ]
    }
   ],
   "source": [
    "check_mixed_assignment(data)"
   ]
  },
  {
   "cell_type": "code",
   "execution_count": 6,
   "id": "97455f22-0ec1-442f-8d1d-c572d0effd10",
   "metadata": {},
   "outputs": [],
   "source": [
    "def remove_mixed_assignment(df):\n",
    "    df1 = df[['user_id', 'group']].groupby(['user_id']).nunique().reset_index() \n",
    "    # count the unique number of groups that a user was assigned to\n",
    "    df2 = pd.merge(df, df1, on=['user_id'], how='left') \n",
    "    return df2[df2['group_y'] == 1][['user_id', 'timestamp', 'group_x', 'landing_page', 'converted']]\\\n",
    "        .rename(columns={'group_x':'group'})\n",
    "    # only return users assigned to either treatment or control"
   ]
  },
  {
   "cell_type": "code",
   "execution_count": 7,
   "id": "ac41094f-cd22-4db7-a92b-8beeb0f9ae42",
   "metadata": {},
   "outputs": [],
   "source": [
    "data1 = remove_mixed_assignment(data)"
   ]
  },
  {
   "cell_type": "code",
   "execution_count": 8,
   "id": "2817624c-8e36-40b1-aa99-fb10827d926e",
   "metadata": {},
   "outputs": [
    {
     "name": "stdout",
     "output_type": "stream",
     "text": [
      "0\n"
     ]
    }
   ],
   "source": [
    "check_mixed_assignment(data1)"
   ]
  },
  {
   "cell_type": "code",
   "execution_count": 9,
   "id": "e0849fcd-81ce-4f55-b8ef-7f256abf7773",
   "metadata": {},
   "outputs": [],
   "source": [
    "def check_exposure_bugs(df):\n",
    "    print(df[(df['group'] == 'control')&(df['landing_page'] == 'new_page')]['user_id'].count()) \n",
    "    # count the number of users in control expposed to treatment\n",
    "    print(df[(df['group'] == 'treatment')&(df['landing_page'] == 'old_page')]['user_id'].count()) \n",
    "    # count the number of users in treatment expposed to control"
   ]
  },
  {
   "cell_type": "code",
   "execution_count": 10,
   "id": "c0eb583a-482d-4852-8ac4-fed9547108d2",
   "metadata": {},
   "outputs": [
    {
     "name": "stdout",
     "output_type": "stream",
     "text": [
      "1007\n",
      "991\n"
     ]
    }
   ],
   "source": [
    "check_exposure_bugs(data1)"
   ]
  },
  {
   "cell_type": "code",
   "execution_count": 11,
   "id": "b2e6868a-9cc4-4546-abce-1e4aafdf0533",
   "metadata": {},
   "outputs": [],
   "source": [
    "def remove_exposure_bugs(df):\n",
    "    df1 = df[(df['group'] == 'control')&(df['landing_page'] == 'new_page')][['user_id', 'group']] \n",
    "    # identify the users in control expposed to treatment\n",
    "    df2 = df[(df['group'] == 'treatment')&(df['landing_page'] == 'old_page')][['user_id', 'group']] \n",
    "    # identify the users in treatment expposed to control\n",
    "    df3 = pd.concat([df1, df2])\n",
    "    df4 = pd.merge(df, df3, on=['user_id'], how='left')\n",
    "    return df4[df4['group_y'].isna()][['user_id', 'timestamp', 'group_x', 'landing_page', 'converted']]\\\n",
    "        .rename(columns={'group_x':'group'})\n",
    "    # only return users with the correct exposure"
   ]
  },
  {
   "cell_type": "code",
   "execution_count": 12,
   "id": "2d2133a2-a505-4961-92d1-608286b83fe1",
   "metadata": {},
   "outputs": [],
   "source": [
    "data2 = remove_exposure_bugs(data1)"
   ]
  },
  {
   "cell_type": "code",
   "execution_count": 13,
   "id": "d55a3aa1-d598-4620-a614-1d099c22485e",
   "metadata": {},
   "outputs": [
    {
     "name": "stdout",
     "output_type": "stream",
     "text": [
      "0\n",
      "0\n"
     ]
    }
   ],
   "source": [
    "check_exposure_bugs(data2)"
   ]
  },
  {
   "cell_type": "code",
   "execution_count": 14,
   "id": "eda0269b-684e-4619-8853-8468fcfc555c",
   "metadata": {},
   "outputs": [],
   "source": [
    "def check_multiple_exposures(df):\n",
    "    df1 = df[['user_id', 'group']].groupby(['user_id']).count().reset_index() \n",
    "    # count the number of exposures that a user had\n",
    "    df2 = df1[df1['group'] > 1]['user_id'].count() \n",
    "    # count the number of users that had multiple exposures\n",
    "    print(df2)"
   ]
  },
  {
   "cell_type": "code",
   "execution_count": 15,
   "id": "42818db2-cab4-4dc7-bb81-1d55c7ec6088",
   "metadata": {},
   "outputs": [
    {
     "name": "stdout",
     "output_type": "stream",
     "text": [
      "1\n"
     ]
    }
   ],
   "source": [
    "check_multiple_exposures(data2)"
   ]
  },
  {
   "cell_type": "code",
   "execution_count": 16,
   "id": "2bb01b63-861b-4de5-9cd1-1263e4148ac8",
   "metadata": {},
   "outputs": [],
   "source": [
    "def consolidate_multiple_exposures(df):\n",
    "    df1 = df.groupby(['user_id', 'group', 'landing_page'])\\\n",
    "        .agg({'timestamp': ['min', 'max'], 'converted': ['count', 'sum']}) \n",
    "    # get the timestamps of the first and last exposure, the number of exposures and the number of conversions\n",
    "    df1.columns = df1.columns.droplevel(0)\n",
    "    df2 = df1.reset_index()\n",
    "    df2['converted'] = df2.apply(lambda x: int(x['sum'] > 0), axis=1) # 1 if the user has one conversion\n",
    "    df2['conversion_rate'] = 1.0*df2['sum']/df2['count'] # the number of conversions divided by the number of exposures\n",
    "    return df2\n",
    "    # one user will only have one row"
   ]
  },
  {
   "cell_type": "code",
   "execution_count": 17,
   "id": "4ab78830-3730-4ecd-8299-f75b143d03cc",
   "metadata": {},
   "outputs": [],
   "source": [
    "data3 = consolidate_multiple_exposures(data2)"
   ]
  },
  {
   "cell_type": "code",
   "execution_count": 18,
   "id": "f280977d-0df8-4a55-87cb-72f8bb32875d",
   "metadata": {},
   "outputs": [
    {
     "name": "stdout",
     "output_type": "stream",
     "text": [
      "0\n"
     ]
    }
   ],
   "source": [
    "check_multiple_exposures(data3)"
   ]
  },
  {
   "cell_type": "markdown",
   "id": "bd10c50d-d8ff-4dd9-ac7e-0f9a95640007",
   "metadata": {},
   "source": [
    "# Sanity Check "
   ]
  },
  {
   "cell_type": "code",
   "execution_count": 19,
   "id": "5c3cd7b1-63aa-4aa1-8876-2170f140d196",
   "metadata": {},
   "outputs": [],
   "source": [
    "def check_any_assignment_imbalance(df):\n",
    "    df1 = df[['user_id', 'group']].groupby(['group']).count().reset_index() \n",
    "    # count the number of users in treatment vs. control\n",
    "    print(df1)\n",
    "    pvalue = stats.binom_test(df1[df1['group'] == 'treatment']['user_id'].values[0], \n",
    "                              n=df1['user_id'].sum(),\n",
    "                              p=0.5, \n",
    "                              alternative='two-sided') \n",
    "    # test whether the treatment vs. control has the equal sample size\n",
    "    print(pvalue)"
   ]
  },
  {
   "cell_type": "code",
   "execution_count": 20,
   "id": "6b75a8a1-2110-4700-b49f-14136a4a47ba",
   "metadata": {},
   "outputs": [
    {
     "name": "stdout",
     "output_type": "stream",
     "text": [
      "       group  user_id\n",
      "0    control   143293\n",
      "1  treatment   143398\n",
      "0.8459923345444519\n"
     ]
    }
   ],
   "source": [
    "check_any_assignment_imbalance(data3)"
   ]
  },
  {
   "cell_type": "markdown",
   "id": "6ea82d66-c104-487c-b4b4-f5f27221af30",
   "metadata": {},
   "source": [
    "# Hypothesis Testing"
   ]
  },
  {
   "cell_type": "code",
   "execution_count": 21,
   "id": "7d87dedd-9c90-46ba-9f81-96e2ef52f1ce",
   "metadata": {},
   "outputs": [],
   "source": [
    "def calculate_pvalue(df):\n",
    "    n_treatment = df[df['group'] == 'treatment']['user_id'].count() # the number of users in treatment\n",
    "    n_control = df[df['group'] == 'control']['user_id'].count() # the number of users in control\n",
    "    \n",
    "    p_treatment = 1.0*df[df['group'] == 'treatment']['converted'].sum()/n_treatment \n",
    "    # the probability of a user in treatment to convert\n",
    "    p_control = 1.0*df[df['group'] == 'control']['converted'].sum()/n_control \n",
    "    # the probability of a user in control to convert\n",
    "    \n",
    "    var_treatment = p_treatment*(1-p_treatment) # the variance of the probability of a user in treatment to convert\n",
    "    var_control = p_control*(1-p_control) # the variance of the probability of a user in treatment to convert\n",
    "    \n",
    "    p_delta = p_treatment - p_control # the delta of the probability of a user to convert in treatment vs. control\n",
    "    print(p_delta)\n",
    "    \n",
    "    pooled_se = np.sqrt(var_treatment/n_treatment + var_control/n_control) # the pooled standard error of the t test\n",
    "    t_statistic = p_delta/pooled_se # the t statistic\n",
    "    dof = (var_treatment/n_treatment + var_control/n_control)**2\\\n",
    "    /(var_treatment**2/(n_treatment**2*(n_treatment-1)) + var_control**2/(n_control**2*(n_control-1)))\n",
    "    # the degree of freedom\n",
    "    pvalue = 2*t.cdf(-abs(t_statistic), dof) # the p value of the t test\n",
    "    print(pvalue)\n",
    "    \n",
    "    lower = p_delta - t.ppf(0.975, dof)*pooled_se # the lower bound of the confidence interval\n",
    "    upper = p_delta + t.ppf(0.975, dof)*pooled_se # the upper bound of the confidence interval\n",
    "    print(lower)\n",
    "    print(upper)"
   ]
  },
  {
   "cell_type": "code",
   "execution_count": 22,
   "id": "25271549-9976-48f4-8858-cf34bae73b88",
   "metadata": {},
   "outputs": [
    {
     "name": "stdout",
     "output_type": "stream",
     "text": [
      "-0.0014478458686042056\n",
      "0.23202039224946788\n",
      "-0.0038221778568021604\n",
      "0.0009264861195937492\n"
     ]
    }
   ],
   "source": [
    "calculate_pvalue(data3)"
   ]
  },
  {
   "cell_type": "markdown",
   "id": "15c65095-c2fb-48a8-b18f-ad55e58ddcb1",
   "metadata": {
    "tags": []
   },
   "source": [
    "# Power Calculation"
   ]
  },
  {
   "cell_type": "code",
   "execution_count": 23,
   "id": "ec98ff93-c6f9-447c-b5ba-f4b829d48cb2",
   "metadata": {},
   "outputs": [],
   "source": [
    "def calculate_mde(df):\n",
    "    n_treatment = df[df['group'] == 'treatment']['user_id'].count() # the number of users in treatment\n",
    "    n_control = df[df['group'] == 'control']['user_id'].count() # the number of users in control\n",
    "    \n",
    "    power_analysis = smp.TTestIndPower()\n",
    "    \n",
    "    effect_size = power_analysis.solve_power(\n",
    "        nobs1=n_control, power=0.8, alpha=0.05, ratio=1.0*n_treatment/n_control, alternative='two-sided'\n",
    "    ) \n",
    "    p = 1.0*df['converted'].sum()/df['user_id'].count() # the probability of a user to convert\n",
    "    sd = np.sqrt(p*(1-p)) # the standard deviation of a user to convert\n",
    "    mde = effect_size*sd # the minimum detectable effect with the current sample size\n",
    "    print(mde)\n",
    "    \n",
    "    p_treatment = 1.0*df[df['group'] == 'treatment']['converted'].sum()/n_treatment \n",
    "    # the probability of a user in treatment to convert\n",
    "    p_control = 1.0*df[df['group'] == 'control']['converted'].sum()/n_control \n",
    "    # the probability of a user in control to convert\n",
    "    p_delta = p_treatment - p_control \n",
    "    # the measured delta of the probability of a user to convert in treatment vs. control\n",
    "    nobs1 = power_analysis.solve_power(\n",
    "        effect_size=1.0*p_delta/sd, power=0.8, alpha=0.05, ratio=1.0, alternative='two-sided'\n",
    "    )\n",
    "    # the required sample size when setting the currently measured delta as the minimum detectable effect\n",
    "    print(nobs1)"
   ]
  },
  {
   "cell_type": "code",
   "execution_count": 24,
   "id": "ef1e42a3-df56-442d-9c65-a08e933905c9",
   "metadata": {},
   "outputs": [
    {
     "name": "stdout",
     "output_type": "stream",
     "text": [
      "0.003393909728661452\n",
      "787644.1019180008\n"
     ]
    }
   ],
   "source": [
    "calculate_mde(data3)"
   ]
  },
  {
   "cell_type": "markdown",
   "id": "f1056512-4aaa-4a77-864b-442b94b56f01",
   "metadata": {
    "tags": []
   },
   "source": [
    "# Validation"
   ]
  },
  {
   "cell_type": "code",
   "execution_count": 25,
   "id": "afdbbeb1-e13a-4564-877f-e660d5e4adf4",
   "metadata": {},
   "outputs": [
    {
     "name": "stdout",
     "output_type": "stream",
     "text": [
      "                            OLS Regression Results                            \n",
      "==============================================================================\n",
      "Dep. Variable:              converted   R-squared:                       0.000\n",
      "Model:                            OLS   Adj. R-squared:                  0.000\n",
      "Method:                 Least Squares   F-statistic:                     1.428\n",
      "Date:                Fri, 11 Nov 2022   Prob (F-statistic):              0.232\n",
      "Time:                        15:29:33   Log-Likelihood:                -83972.\n",
      "No. Observations:              286691   AIC:                         1.679e+05\n",
      "Df Residuals:                  286689   BIC:                         1.680e+05\n",
      "Df Model:                           1                                         \n",
      "Covariance Type:            nonrobust                                         \n",
      "==============================================================================\n",
      "                 coef    std err          t      P>|t|      [0.025      0.975]\n",
      "------------------------------------------------------------------------------\n",
      "const          0.1202      0.001    140.266      0.000       0.118       0.122\n",
      "treatment     -0.0014      0.001     -1.195      0.232      -0.004       0.001\n",
      "==============================================================================\n",
      "Omnibus:                   124031.444   Durbin-Watson:                   2.000\n",
      "Prob(Omnibus):                  0.000   Jarque-Bera (JB):           410100.083\n",
      "Skew:                           2.347   Prob(JB):                         0.00\n",
      "Kurtosis:                       6.507   Cond. No.                         2.62\n",
      "==============================================================================\n",
      "\n",
      "Notes:\n",
      "[1] Standard Errors assume that the covariance matrix of the errors is correctly specified.\n"
     ]
    }
   ],
   "source": [
    "X = pd.get_dummies(data3['group'], drop_first=True)\n",
    "y = data3['converted']\n",
    "\n",
    "X2 = sm.add_constant(X)\n",
    "est = sm.OLS(y, X2)\n",
    "est2 = est.fit()\n",
    "print(est2.summary())"
   ]
  },
  {
   "cell_type": "code",
   "execution_count": null,
   "id": "ef38ae99-62e2-4be3-b57c-5590596e78e6",
   "metadata": {},
   "outputs": [],
   "source": []
  }
 ],
 "metadata": {
  "kernelspec": {
   "display_name": "Python 3 (ipykernel)",
   "language": "python",
   "name": "python3"
  },
  "language_info": {
   "codemirror_mode": {
    "name": "ipython",
    "version": 3
   },
   "file_extension": ".py",
   "mimetype": "text/x-python",
   "name": "python",
   "nbconvert_exporter": "python",
   "pygments_lexer": "ipython3",
   "version": "3.8.11"
  }
 },
 "nbformat": 4,
 "nbformat_minor": 5
}
