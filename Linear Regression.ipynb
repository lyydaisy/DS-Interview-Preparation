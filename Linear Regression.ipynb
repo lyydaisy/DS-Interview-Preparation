{
 "cells": [
  {
   "cell_type": "markdown",
   "id": "63f45204-472d-4c5a-984c-9e3eb1a9ef47",
   "metadata": {},
   "source": [
    "# README\n",
    "How to install Jupyter: https://jupyter.org/install \\\n",
    "Where to download the data: https://github.com/patiegm/Udacity_Data_Analysis_Nanodegree/tree/master/Analyze%20AB%20Test%20Results\n",
    "# Context\n",
    "Let's assume we run an experiment by randomly assigning users to treatment vs. control. While the users in treatment were exposed to the new page, the users in control still saw the old page. We want to understand whether the new page significantly improved user conversion defined by the percentage of users who converted after being exposed to the new vs. old page. Besides, we also have indivudal users' countries to perform covariate adjustement and heterogeneous treatment effect analysis."
   ]
  },
  {
   "cell_type": "code",
   "execution_count": 1,
   "id": "b7dd16b5-1ed2-40c5-8973-779b212852c7",
   "metadata": {
    "tags": []
   },
   "outputs": [],
   "source": [
    "import pandas as pd\n",
    "from scipy import stats\n",
    "from scipy.stats import t\n",
    "from scipy.stats import norm\n",
    "import numpy as np\n",
    "import statsmodels.api as sm\n",
    "from statsmodels.formula.api import ols\n",
    "from statsmodels.stats.anova import anova_lm"
   ]
  },
  {
   "cell_type": "markdown",
   "id": "03baf2b3-0318-4205-b1b4-4256e2660b4c",
   "metadata": {
    "tags": []
   },
   "source": [
    "# Load Data"
   ]
  },
  {
   "cell_type": "code",
   "execution_count": 2,
   "id": "0545e7d4-2c68-4766-8bd4-87592578b10b",
   "metadata": {},
   "outputs": [],
   "source": [
    "data = pd.read_csv('ab_data.csv')"
   ]
  },
  {
   "cell_type": "code",
   "execution_count": 3,
   "id": "b1b57795-a804-4cab-b929-7c0c9f02c55e",
   "metadata": {},
   "outputs": [],
   "source": [
    "country = pd.read_csv('countries.csv')"
   ]
  },
  {
   "cell_type": "code",
   "execution_count": 4,
   "id": "92c1069f-5c3c-4bd4-901c-373383e32297",
   "metadata": {},
   "outputs": [],
   "source": [
    "data = pd.merge(data, country, on='user_id', how='inner')"
   ]
  },
  {
   "cell_type": "code",
   "execution_count": 5,
   "id": "90541802-b157-4988-8929-7e186e10a142",
   "metadata": {},
   "outputs": [
    {
     "data": {
      "text/html": [
       "<div>\n",
       "<style scoped>\n",
       "    .dataframe tbody tr th:only-of-type {\n",
       "        vertical-align: middle;\n",
       "    }\n",
       "\n",
       "    .dataframe tbody tr th {\n",
       "        vertical-align: top;\n",
       "    }\n",
       "\n",
       "    .dataframe thead th {\n",
       "        text-align: right;\n",
       "    }\n",
       "</style>\n",
       "<table border=\"1\" class=\"dataframe\">\n",
       "  <thead>\n",
       "    <tr style=\"text-align: right;\">\n",
       "      <th></th>\n",
       "      <th>user_id</th>\n",
       "      <th>timestamp</th>\n",
       "      <th>group</th>\n",
       "      <th>landing_page</th>\n",
       "      <th>converted</th>\n",
       "      <th>country</th>\n",
       "    </tr>\n",
       "  </thead>\n",
       "  <tbody>\n",
       "    <tr>\n",
       "      <th>0</th>\n",
       "      <td>851104</td>\n",
       "      <td>2017-01-21 22:11:48.556739</td>\n",
       "      <td>control</td>\n",
       "      <td>old_page</td>\n",
       "      <td>0</td>\n",
       "      <td>US</td>\n",
       "    </tr>\n",
       "    <tr>\n",
       "      <th>1</th>\n",
       "      <td>804228</td>\n",
       "      <td>2017-01-12 08:01:45.159739</td>\n",
       "      <td>control</td>\n",
       "      <td>old_page</td>\n",
       "      <td>0</td>\n",
       "      <td>US</td>\n",
       "    </tr>\n",
       "    <tr>\n",
       "      <th>2</th>\n",
       "      <td>661590</td>\n",
       "      <td>2017-01-11 16:55:06.154213</td>\n",
       "      <td>treatment</td>\n",
       "      <td>new_page</td>\n",
       "      <td>0</td>\n",
       "      <td>US</td>\n",
       "    </tr>\n",
       "    <tr>\n",
       "      <th>3</th>\n",
       "      <td>853541</td>\n",
       "      <td>2017-01-08 18:28:03.143765</td>\n",
       "      <td>treatment</td>\n",
       "      <td>new_page</td>\n",
       "      <td>0</td>\n",
       "      <td>US</td>\n",
       "    </tr>\n",
       "    <tr>\n",
       "      <th>4</th>\n",
       "      <td>864975</td>\n",
       "      <td>2017-01-21 01:52:26.210827</td>\n",
       "      <td>control</td>\n",
       "      <td>old_page</td>\n",
       "      <td>1</td>\n",
       "      <td>US</td>\n",
       "    </tr>\n",
       "    <tr>\n",
       "      <th>...</th>\n",
       "      <td>...</td>\n",
       "      <td>...</td>\n",
       "      <td>...</td>\n",
       "      <td>...</td>\n",
       "      <td>...</td>\n",
       "      <td>...</td>\n",
       "    </tr>\n",
       "    <tr>\n",
       "      <th>294473</th>\n",
       "      <td>751197</td>\n",
       "      <td>2017-01-03 22:28:38.630509</td>\n",
       "      <td>control</td>\n",
       "      <td>old_page</td>\n",
       "      <td>0</td>\n",
       "      <td>US</td>\n",
       "    </tr>\n",
       "    <tr>\n",
       "      <th>294474</th>\n",
       "      <td>945152</td>\n",
       "      <td>2017-01-12 00:51:57.078372</td>\n",
       "      <td>control</td>\n",
       "      <td>old_page</td>\n",
       "      <td>0</td>\n",
       "      <td>US</td>\n",
       "    </tr>\n",
       "    <tr>\n",
       "      <th>294475</th>\n",
       "      <td>734608</td>\n",
       "      <td>2017-01-22 11:45:03.439544</td>\n",
       "      <td>control</td>\n",
       "      <td>old_page</td>\n",
       "      <td>0</td>\n",
       "      <td>US</td>\n",
       "    </tr>\n",
       "    <tr>\n",
       "      <th>294476</th>\n",
       "      <td>697314</td>\n",
       "      <td>2017-01-15 01:20:28.957438</td>\n",
       "      <td>control</td>\n",
       "      <td>old_page</td>\n",
       "      <td>0</td>\n",
       "      <td>US</td>\n",
       "    </tr>\n",
       "    <tr>\n",
       "      <th>294477</th>\n",
       "      <td>715931</td>\n",
       "      <td>2017-01-16 12:40:24.467417</td>\n",
       "      <td>treatment</td>\n",
       "      <td>new_page</td>\n",
       "      <td>0</td>\n",
       "      <td>UK</td>\n",
       "    </tr>\n",
       "  </tbody>\n",
       "</table>\n",
       "<p>294478 rows × 6 columns</p>\n",
       "</div>"
      ],
      "text/plain": [
       "        user_id                   timestamp      group landing_page  \\\n",
       "0        851104  2017-01-21 22:11:48.556739    control     old_page   \n",
       "1        804228  2017-01-12 08:01:45.159739    control     old_page   \n",
       "2        661590  2017-01-11 16:55:06.154213  treatment     new_page   \n",
       "3        853541  2017-01-08 18:28:03.143765  treatment     new_page   \n",
       "4        864975  2017-01-21 01:52:26.210827    control     old_page   \n",
       "...         ...                         ...        ...          ...   \n",
       "294473   751197  2017-01-03 22:28:38.630509    control     old_page   \n",
       "294474   945152  2017-01-12 00:51:57.078372    control     old_page   \n",
       "294475   734608  2017-01-22 11:45:03.439544    control     old_page   \n",
       "294476   697314  2017-01-15 01:20:28.957438    control     old_page   \n",
       "294477   715931  2017-01-16 12:40:24.467417  treatment     new_page   \n",
       "\n",
       "        converted country  \n",
       "0               0      US  \n",
       "1               0      US  \n",
       "2               0      US  \n",
       "3               0      US  \n",
       "4               1      US  \n",
       "...           ...     ...  \n",
       "294473          0      US  \n",
       "294474          0      US  \n",
       "294475          0      US  \n",
       "294476          0      US  \n",
       "294477          0      UK  \n",
       "\n",
       "[294478 rows x 6 columns]"
      ]
     },
     "execution_count": 5,
     "metadata": {},
     "output_type": "execute_result"
    }
   ],
   "source": [
    "data"
   ]
  },
  {
   "cell_type": "markdown",
   "id": "6cc913e0-652b-46f4-8bde-a58526b6f40a",
   "metadata": {
    "tags": []
   },
   "source": [
    "# Clean Data"
   ]
  },
  {
   "cell_type": "code",
   "execution_count": 6,
   "id": "97455f22-0ec1-442f-8d1d-c572d0effd10",
   "metadata": {},
   "outputs": [],
   "source": [
    "def remove_mixed_assignment(df):\n",
    "    df1 = df[['user_id', 'group']].groupby(['user_id']).nunique().reset_index() \n",
    "    # count the unique number of groups that a user was assigned to\n",
    "    df2 = pd.merge(df, df1, on=['user_id'], how='left') \n",
    "    return df2[df2['group_y'] == 1][['user_id', 'country', 'timestamp', 'group_x', 'landing_page', 'converted']]\\\n",
    "        .rename(columns={'group_x':'group'})\n",
    "    # only return users assigned to either treatment or control"
   ]
  },
  {
   "cell_type": "code",
   "execution_count": 7,
   "id": "ac41094f-cd22-4db7-a92b-8beeb0f9ae42",
   "metadata": {},
   "outputs": [],
   "source": [
    "data1 = remove_mixed_assignment(data)"
   ]
  },
  {
   "cell_type": "code",
   "execution_count": 8,
   "id": "b2e6868a-9cc4-4546-abce-1e4aafdf0533",
   "metadata": {},
   "outputs": [],
   "source": [
    "def remove_exposure_bugs(df):\n",
    "    df1 = df[(df['group'] == 'control')&(df['landing_page'] == 'new_page')][['user_id', 'group']] \n",
    "    # identify the users in control expposed to treatment\n",
    "    df2 = df[(df['group'] == 'treatment')&(df['landing_page'] == 'old_page')][['user_id', 'group']] \n",
    "    # identify the users in treatment expposed to control\n",
    "    df3 = pd.concat([df1, df2])\n",
    "    df4 = pd.merge(df, df3, on=['user_id'], how='left')\n",
    "    return df4[df4['group_y'].isna()][['user_id', 'country', 'timestamp', 'group_x', 'landing_page', 'converted']]\\\n",
    "        .rename(columns={'group_x':'group'})\n",
    "    # only return users with the correct exposure"
   ]
  },
  {
   "cell_type": "code",
   "execution_count": 9,
   "id": "2d2133a2-a505-4961-92d1-608286b83fe1",
   "metadata": {},
   "outputs": [],
   "source": [
    "data2 = remove_exposure_bugs(data1)"
   ]
  },
  {
   "cell_type": "code",
   "execution_count": 10,
   "id": "2bb01b63-861b-4de5-9cd1-1263e4148ac8",
   "metadata": {},
   "outputs": [],
   "source": [
    "def consolidate_multiple_exposures(df):\n",
    "    df1 = df.groupby(['user_id', 'country', 'group', 'landing_page'])\\\n",
    "        .agg({'timestamp': ['min', 'max'], 'converted': ['count', 'sum']}) \n",
    "    # get the timestamps of the first and last exposure, the number of exposures and the number of conversions\n",
    "    df1.columns = df1.columns.droplevel(0)\n",
    "    df2 = df1.reset_index()\n",
    "    df2['converted'] = df2.apply(lambda x: int(x['sum'] > 0), axis=1) # 1 if the user has one conversion\n",
    "    df2['conversion_rate'] = 1.0*df2['sum']/df2['count'] # the number of conversions divided by the number of exposures\n",
    "    return df2\n",
    "    # one user will only have one row"
   ]
  },
  {
   "cell_type": "code",
   "execution_count": 11,
   "id": "4ab78830-3730-4ecd-8299-f75b143d03cc",
   "metadata": {},
   "outputs": [],
   "source": [
    "data3 = consolidate_multiple_exposures(data2)"
   ]
  },
  {
   "cell_type": "code",
   "execution_count": 12,
   "id": "2df0536d-9e1e-4760-9072-c93ce66af3f4",
   "metadata": {},
   "outputs": [
    {
     "data": {
      "text/html": [
       "<div>\n",
       "<style scoped>\n",
       "    .dataframe tbody tr th:only-of-type {\n",
       "        vertical-align: middle;\n",
       "    }\n",
       "\n",
       "    .dataframe tbody tr th {\n",
       "        vertical-align: top;\n",
       "    }\n",
       "\n",
       "    .dataframe thead th {\n",
       "        text-align: right;\n",
       "    }\n",
       "</style>\n",
       "<table border=\"1\" class=\"dataframe\">\n",
       "  <thead>\n",
       "    <tr style=\"text-align: right;\">\n",
       "      <th></th>\n",
       "      <th>user_id</th>\n",
       "      <th>country</th>\n",
       "      <th>group</th>\n",
       "      <th>landing_page</th>\n",
       "      <th>min</th>\n",
       "      <th>max</th>\n",
       "      <th>count</th>\n",
       "      <th>sum</th>\n",
       "      <th>converted</th>\n",
       "      <th>conversion_rate</th>\n",
       "    </tr>\n",
       "  </thead>\n",
       "  <tbody>\n",
       "    <tr>\n",
       "      <th>0</th>\n",
       "      <td>630000</td>\n",
       "      <td>US</td>\n",
       "      <td>treatment</td>\n",
       "      <td>new_page</td>\n",
       "      <td>2017-01-19 06:26:06.548941</td>\n",
       "      <td>2017-01-19 06:26:06.548941</td>\n",
       "      <td>1</td>\n",
       "      <td>0</td>\n",
       "      <td>0</td>\n",
       "      <td>0.0</td>\n",
       "    </tr>\n",
       "    <tr>\n",
       "      <th>1</th>\n",
       "      <td>630001</td>\n",
       "      <td>US</td>\n",
       "      <td>treatment</td>\n",
       "      <td>new_page</td>\n",
       "      <td>2017-01-16 03:16:42.560309</td>\n",
       "      <td>2017-01-16 03:16:42.560309</td>\n",
       "      <td>1</td>\n",
       "      <td>1</td>\n",
       "      <td>1</td>\n",
       "      <td>1.0</td>\n",
       "    </tr>\n",
       "    <tr>\n",
       "      <th>2</th>\n",
       "      <td>630002</td>\n",
       "      <td>US</td>\n",
       "      <td>control</td>\n",
       "      <td>old_page</td>\n",
       "      <td>2017-01-19 19:20:56.438330</td>\n",
       "      <td>2017-01-19 19:20:56.438330</td>\n",
       "      <td>1</td>\n",
       "      <td>0</td>\n",
       "      <td>0</td>\n",
       "      <td>0.0</td>\n",
       "    </tr>\n",
       "    <tr>\n",
       "      <th>3</th>\n",
       "      <td>630003</td>\n",
       "      <td>US</td>\n",
       "      <td>treatment</td>\n",
       "      <td>new_page</td>\n",
       "      <td>2017-01-12 10:09:31.510471</td>\n",
       "      <td>2017-01-12 10:09:31.510471</td>\n",
       "      <td>1</td>\n",
       "      <td>0</td>\n",
       "      <td>0</td>\n",
       "      <td>0.0</td>\n",
       "    </tr>\n",
       "    <tr>\n",
       "      <th>4</th>\n",
       "      <td>630004</td>\n",
       "      <td>US</td>\n",
       "      <td>treatment</td>\n",
       "      <td>new_page</td>\n",
       "      <td>2017-01-18 20:23:58.824994</td>\n",
       "      <td>2017-01-18 20:23:58.824994</td>\n",
       "      <td>1</td>\n",
       "      <td>0</td>\n",
       "      <td>0</td>\n",
       "      <td>0.0</td>\n",
       "    </tr>\n",
       "    <tr>\n",
       "      <th>...</th>\n",
       "      <td>...</td>\n",
       "      <td>...</td>\n",
       "      <td>...</td>\n",
       "      <td>...</td>\n",
       "      <td>...</td>\n",
       "      <td>...</td>\n",
       "      <td>...</td>\n",
       "      <td>...</td>\n",
       "      <td>...</td>\n",
       "      <td>...</td>\n",
       "    </tr>\n",
       "    <tr>\n",
       "      <th>286686</th>\n",
       "      <td>945994</td>\n",
       "      <td>UK</td>\n",
       "      <td>control</td>\n",
       "      <td>old_page</td>\n",
       "      <td>2017-01-03 14:41:21.565258</td>\n",
       "      <td>2017-01-03 14:41:21.565258</td>\n",
       "      <td>1</td>\n",
       "      <td>0</td>\n",
       "      <td>0</td>\n",
       "      <td>0.0</td>\n",
       "    </tr>\n",
       "    <tr>\n",
       "      <th>286687</th>\n",
       "      <td>945996</td>\n",
       "      <td>US</td>\n",
       "      <td>treatment</td>\n",
       "      <td>new_page</td>\n",
       "      <td>2017-01-09 18:58:19.952277</td>\n",
       "      <td>2017-01-09 18:58:19.952277</td>\n",
       "      <td>1</td>\n",
       "      <td>0</td>\n",
       "      <td>0</td>\n",
       "      <td>0.0</td>\n",
       "    </tr>\n",
       "    <tr>\n",
       "      <th>286688</th>\n",
       "      <td>945997</td>\n",
       "      <td>US</td>\n",
       "      <td>control</td>\n",
       "      <td>old_page</td>\n",
       "      <td>2017-01-04 06:56:24.658147</td>\n",
       "      <td>2017-01-04 06:56:24.658147</td>\n",
       "      <td>1</td>\n",
       "      <td>0</td>\n",
       "      <td>0</td>\n",
       "      <td>0.0</td>\n",
       "    </tr>\n",
       "    <tr>\n",
       "      <th>286689</th>\n",
       "      <td>945998</td>\n",
       "      <td>CA</td>\n",
       "      <td>control</td>\n",
       "      <td>old_page</td>\n",
       "      <td>2017-01-16 07:08:02.207969</td>\n",
       "      <td>2017-01-16 07:08:02.207969</td>\n",
       "      <td>1</td>\n",
       "      <td>0</td>\n",
       "      <td>0</td>\n",
       "      <td>0.0</td>\n",
       "    </tr>\n",
       "    <tr>\n",
       "      <th>286690</th>\n",
       "      <td>945999</td>\n",
       "      <td>US</td>\n",
       "      <td>treatment</td>\n",
       "      <td>new_page</td>\n",
       "      <td>2017-01-16 04:56:21.132067</td>\n",
       "      <td>2017-01-16 04:56:21.132067</td>\n",
       "      <td>1</td>\n",
       "      <td>0</td>\n",
       "      <td>0</td>\n",
       "      <td>0.0</td>\n",
       "    </tr>\n",
       "  </tbody>\n",
       "</table>\n",
       "<p>286691 rows × 10 columns</p>\n",
       "</div>"
      ],
      "text/plain": [
       "        user_id country      group landing_page                         min  \\\n",
       "0        630000      US  treatment     new_page  2017-01-19 06:26:06.548941   \n",
       "1        630001      US  treatment     new_page  2017-01-16 03:16:42.560309   \n",
       "2        630002      US    control     old_page  2017-01-19 19:20:56.438330   \n",
       "3        630003      US  treatment     new_page  2017-01-12 10:09:31.510471   \n",
       "4        630004      US  treatment     new_page  2017-01-18 20:23:58.824994   \n",
       "...         ...     ...        ...          ...                         ...   \n",
       "286686   945994      UK    control     old_page  2017-01-03 14:41:21.565258   \n",
       "286687   945996      US  treatment     new_page  2017-01-09 18:58:19.952277   \n",
       "286688   945997      US    control     old_page  2017-01-04 06:56:24.658147   \n",
       "286689   945998      CA    control     old_page  2017-01-16 07:08:02.207969   \n",
       "286690   945999      US  treatment     new_page  2017-01-16 04:56:21.132067   \n",
       "\n",
       "                               max  count  sum  converted  conversion_rate  \n",
       "0       2017-01-19 06:26:06.548941      1    0          0              0.0  \n",
       "1       2017-01-16 03:16:42.560309      1    1          1              1.0  \n",
       "2       2017-01-19 19:20:56.438330      1    0          0              0.0  \n",
       "3       2017-01-12 10:09:31.510471      1    0          0              0.0  \n",
       "4       2017-01-18 20:23:58.824994      1    0          0              0.0  \n",
       "...                            ...    ...  ...        ...              ...  \n",
       "286686  2017-01-03 14:41:21.565258      1    0          0              0.0  \n",
       "286687  2017-01-09 18:58:19.952277      1    0          0              0.0  \n",
       "286688  2017-01-04 06:56:24.658147      1    0          0              0.0  \n",
       "286689  2017-01-16 07:08:02.207969      1    0          0              0.0  \n",
       "286690  2017-01-16 04:56:21.132067      1    0          0              0.0  \n",
       "\n",
       "[286691 rows x 10 columns]"
      ]
     },
     "execution_count": 12,
     "metadata": {},
     "output_type": "execute_result"
    }
   ],
   "source": [
    "data3"
   ]
  },
  {
   "cell_type": "markdown",
   "id": "6ea82d66-c104-487c-b4b4-f5f27221af30",
   "metadata": {
    "tags": []
   },
   "source": [
    "# T Test"
   ]
  },
  {
   "cell_type": "code",
   "execution_count": 13,
   "id": "7d87dedd-9c90-46ba-9f81-96e2ef52f1ce",
   "metadata": {},
   "outputs": [],
   "source": [
    "def perform_t_test(df):\n",
    "    n_treatment = df[df['group'] == 'treatment']['user_id'].count() # the number of users in treatment\n",
    "    n_control = df[df['group'] == 'control']['user_id'].count() # the number of users in control\n",
    "    \n",
    "    p_treatment = 1.0*df[df['group'] == 'treatment']['converted'].sum()/n_treatment \n",
    "    # the probability of a user in treatment to convert\n",
    "    p_control = 1.0*df[df['group'] == 'control']['converted'].sum()/n_control \n",
    "    # the probability of a user in control to convert\n",
    "    \n",
    "    var_treatment = p_treatment*(1-p_treatment) # the variance of the probability of a user in treatment to convert\n",
    "    var_control = p_control*(1-p_control) # the variance of the probability of a user in treatment to convert\n",
    "    \n",
    "    p_delta = p_treatment - p_control # the delta of the probability of a user to convert in treatment vs. control\n",
    "    print(p_delta)\n",
    "    \n",
    "    pooled_se = np.sqrt(var_treatment/n_treatment + var_control/n_control) # the pooled standard error of the t test\n",
    "    t_statistic = p_delta/pooled_se # the t statistic\n",
    "    dof = (var_treatment/n_treatment + var_control/n_control)**2\\\n",
    "    /(var_treatment**2/(n_treatment**2*(n_treatment-1)) + var_control**2/(n_control**2*(n_control-1)))\n",
    "    # the degree of freedom\n",
    "    \n",
    "    pvalue = 2*t.cdf(-abs(t_statistic), dof) # the p value of the t test\n",
    "    print(pvalue)\n",
    "    \n",
    "    lower = p_delta - t.ppf(0.975, dof)*pooled_se # the lower bound of the confidence interval\n",
    "    upper = p_delta + t.ppf(0.975, dof)*pooled_se # the upper bound of the confidence interval\n",
    "    print(lower)\n",
    "    print(upper)"
   ]
  },
  {
   "cell_type": "code",
   "execution_count": 14,
   "id": "25271549-9976-48f4-8858-cf34bae73b88",
   "metadata": {},
   "outputs": [
    {
     "name": "stdout",
     "output_type": "stream",
     "text": [
      "-0.0014478458686042056\n",
      "0.23202039224946788\n",
      "-0.0038221778568021604\n",
      "0.0009264861195937492\n"
     ]
    }
   ],
   "source": [
    "perform_t_test(data3)"
   ]
  },
  {
   "cell_type": "markdown",
   "id": "0b5eeba1-93d5-49bb-a4a9-0c33e1209652",
   "metadata": {},
   "source": [
    "# Z Test"
   ]
  },
  {
   "cell_type": "code",
   "execution_count": 15,
   "id": "dbf3df75-fb91-48e3-8e13-450b0640a212",
   "metadata": {},
   "outputs": [],
   "source": [
    "def perform_z_test(df):\n",
    "    n_treatment = df[df['group'] == 'treatment']['user_id'].count() # the number of users in treatment\n",
    "    n_control = df[df['group'] == 'control']['user_id'].count() # the number of users in control\n",
    "    \n",
    "    p_treatment = 1.0*df[df['group'] == 'treatment']['converted'].sum()/n_treatment \n",
    "    # the probability of a user in treatment to convert\n",
    "    p_control = 1.0*df[df['group'] == 'control']['converted'].sum()/n_control \n",
    "    # the probability of a user in control to convert\n",
    "    \n",
    "    p_delta = p_treatment - p_control # the delta of the probability of a user to convert in treatment vs. control\n",
    "    print(p_delta)\n",
    "    \n",
    "    p = 1.0*(df[df['group'] == 'treatment']['converted'].sum() + df[df['group'] == 'control']['converted'].sum())/(n_treatment+n_control)\n",
    "    # the probability of a user to convert under null hypothesis\n",
    "    var = p*(1-p)\n",
    "    # the variance of the probability of a user to convert under null hypothesis\n",
    "    se = np.sqrt(var*(1/n_treatment + 1/n_control))\n",
    "    # the pooled standard error of the z test\n",
    "    z_statistic = p_delta/se # the z statistic\n",
    "    \n",
    "    pvalue = 2*norm.cdf(-abs(z_statistic)) # the p value of the t test\n",
    "    print(pvalue)\n",
    "    \n",
    "    lower = p_delta - norm.ppf(0.975)*se # the lower bound of the confidence interval\n",
    "    upper = p_delta + norm.ppf(0.975)*se # the upper bound of the confidence interval\n",
    "    print(lower)\n",
    "    print(upper)"
   ]
  },
  {
   "cell_type": "code",
   "execution_count": 16,
   "id": "1b5797a8-7d39-40d4-b3d7-a3732d904abd",
   "metadata": {},
   "outputs": [
    {
     "name": "stdout",
     "output_type": "stream",
     "text": [
      "-0.0014478458686042056\n",
      "0.232019670931933\n",
      "-0.003822169192095711\n",
      "0.0009264774548872999\n"
     ]
    }
   ],
   "source": [
    "perform_z_test(data3)"
   ]
  },
  {
   "cell_type": "markdown",
   "id": "f1056512-4aaa-4a77-864b-442b94b56f01",
   "metadata": {
    "tags": []
   },
   "source": [
    "# Linear Regression\n",
    "y = ax + b \\\n",
    "y: 1 if converted and 0 if not \\\n",
    "x: 1 if treatment and 0 if control \\\n",
    "a: the delta of the probability of a user to convert in treatment vs. control"
   ]
  },
  {
   "cell_type": "code",
   "execution_count": 17,
   "id": "366115e2-ae1c-466d-ba47-fdfac38d1f1f",
   "metadata": {},
   "outputs": [
    {
     "name": "stdout",
     "output_type": "stream",
     "text": [
      "                            OLS Regression Results                            \n",
      "==============================================================================\n",
      "Dep. Variable:              converted   R-squared:                       0.000\n",
      "Model:                            OLS   Adj. R-squared:                  0.000\n",
      "Method:                 Least Squares   F-statistic:                     1.428\n",
      "Date:                Wed, 23 Nov 2022   Prob (F-statistic):              0.232\n",
      "Time:                        22:19:33   Log-Likelihood:                -83972.\n",
      "No. Observations:              286691   AIC:                         1.679e+05\n",
      "Df Residuals:                  286689   BIC:                         1.680e+05\n",
      "Df Model:                           1                                         \n",
      "Covariance Type:            nonrobust                                         \n",
      "=========================================================================================\n",
      "                            coef    std err          t      P>|t|      [0.025      0.975]\n",
      "-----------------------------------------------------------------------------------------\n",
      "Intercept                 0.1202      0.001    140.266      0.000       0.118       0.122\n",
      "C(group)[T.treatment]    -0.0014      0.001     -1.195      0.232      -0.004       0.001\n",
      "==============================================================================\n",
      "Omnibus:                   124031.444   Durbin-Watson:                   2.000\n",
      "Prob(Omnibus):                  0.000   Jarque-Bera (JB):           410100.083\n",
      "Skew:                           2.347   Prob(JB):                         0.00\n",
      "Kurtosis:                       6.507   Cond. No.                         2.62\n",
      "==============================================================================\n",
      "\n",
      "Notes:\n",
      "[1] Standard Errors assume that the covariance matrix of the errors is correctly specified.\n"
     ]
    }
   ],
   "source": [
    "formula = 'converted ~ C(group)'\n",
    "lm = ols(formula, data3).fit()\n",
    "print(lm.summary())"
   ]
  },
  {
   "cell_type": "markdown",
   "id": "cf45ab52-d0f3-4b92-801a-17a0b740e1b7",
   "metadata": {},
   "source": [
    "# Covariate Adjustment\n",
    "y = ax + b + c1\\*z1 + c2\\*z2 \\\n",
    "y: 1 if converted and 0 if not \\\n",
    "x: 1 if treatment and 0 if control \\\n",
    "z1: 1 if UK and 0 if not \\\n",
    "z2: 1 if US and 0 if not \\\n",
    "a: the delta of the probability of a user to convert in treatment vs. control after covariate adjustment"
   ]
  },
  {
   "cell_type": "code",
   "execution_count": 18,
   "id": "2cc7b970-0fe4-4cfe-b015-c271fe4c9db3",
   "metadata": {},
   "outputs": [
    {
     "name": "stdout",
     "output_type": "stream",
     "text": [
      "                            OLS Regression Results                            \n",
      "==============================================================================\n",
      "Dep. Variable:              converted   R-squared:                       0.000\n",
      "Model:                            OLS   Adj. R-squared:                  0.000\n",
      "Method:                 Least Squares   F-statistic:                     1.350\n",
      "Date:                Wed, 23 Nov 2022   Prob (F-statistic):              0.256\n",
      "Time:                        22:19:39   Log-Likelihood:                -83970.\n",
      "No. Observations:              286691   AIC:                         1.679e+05\n",
      "Df Residuals:                  286687   BIC:                         1.680e+05\n",
      "Df Model:                           3                                         \n",
      "Covariance Type:            nonrobust                                         \n",
      "=========================================================================================\n",
      "                            coef    std err          t      P>|t|      [0.025      0.975]\n",
      "-----------------------------------------------------------------------------------------\n",
      "Intercept                 0.1164      0.003     41.864      0.000       0.111       0.122\n",
      "C(group)[T.treatment]    -0.0014      0.001     -1.191      0.234      -0.004       0.001\n",
      "C(country)[T.UK]          0.0048      0.003      1.608      0.108      -0.001       0.011\n",
      "C(country)[T.US]          0.0037      0.003      1.328      0.184      -0.002       0.009\n",
      "==============================================================================\n",
      "Omnibus:                   124029.570   Durbin-Watson:                   2.000\n",
      "Prob(Omnibus):                  0.000   Jarque-Bera (JB):           410087.294\n",
      "Skew:                           2.347   Prob(JB):                         0.00\n",
      "Kurtosis:                       6.507   Cond. No.                         10.8\n",
      "==============================================================================\n",
      "\n",
      "Notes:\n",
      "[1] Standard Errors assume that the covariance matrix of the errors is correctly specified.\n"
     ]
    }
   ],
   "source": [
    "formula = 'converted ~ C(group) + C(country)'\n",
    "lm1 = ols(formula, data3).fit()\n",
    "print(lm1.summary())"
   ]
  },
  {
   "cell_type": "markdown",
   "id": "2772d4a6-c6f2-465b-b4db-7e734ea2cc31",
   "metadata": {
    "tags": []
   },
   "source": [
    "# Heterogeneous Treatment Effect\n",
    "y = a\\*x + b + c1\\*z1 + c2\\*z2 + h1\\*x\\*z1 + h2\\*x\\*z2 \\\n",
    "y: 1 if converted and 0 if not \\\n",
    "x: 1 if treatment and 0 if control \\\n",
    "z1: 1 if UK and 0 if not \\\n",
    "z2: 1 if US and 0 if not \\\n",
    "h1 and h2 indicate whether there are any heterogenenous treatment effetcs"
   ]
  },
  {
   "cell_type": "code",
   "execution_count": 19,
   "id": "02a32533-be10-4408-a9e0-1c63dcfe425d",
   "metadata": {},
   "outputs": [
    {
     "name": "stdout",
     "output_type": "stream",
     "text": [
      "                            OLS Regression Results                            \n",
      "==============================================================================\n",
      "Dep. Variable:              converted   R-squared:                       0.000\n",
      "Model:                            OLS   Adj. R-squared:                  0.000\n",
      "Method:                 Least Squares   F-statistic:                     1.323\n",
      "Date:                Wed, 23 Nov 2022   Prob (F-statistic):              0.251\n",
      "Time:                        22:19:47   Log-Likelihood:                -83969.\n",
      "No. Observations:              286691   AIC:                         1.680e+05\n",
      "Df Residuals:                  286685   BIC:                         1.680e+05\n",
      "Df Model:                           5                                         \n",
      "Covariance Type:            nonrobust                                         \n",
      "==========================================================================================================\n",
      "                                             coef    std err          t      P>|t|      [0.025      0.975]\n",
      "----------------------------------------------------------------------------------------------------------\n",
      "Intercept                                  0.1190      0.004     30.898      0.000       0.111       0.127\n",
      "C(group)[T.treatment]                     -0.0066      0.005     -1.219      0.223      -0.017       0.004\n",
      "C(country)[T.UK]                           0.0007      0.004      0.171      0.864      -0.008       0.009\n",
      "C(country)[T.US]                           0.0015      0.004      0.365      0.715      -0.006       0.009\n",
      "C(group)[T.treatment]:C(country)[T.UK]     0.0081      0.006      1.360      0.174      -0.004       0.020\n",
      "C(group)[T.treatment]:C(country)[T.US]     0.0045      0.006      0.802      0.422      -0.006       0.016\n",
      "==============================================================================\n",
      "Omnibus:                   124027.738   Durbin-Watson:                   2.000\n",
      "Prob(Omnibus):                  0.000   Jarque-Bera (JB):           410074.768\n",
      "Skew:                           2.347   Prob(JB):                         0.00\n",
      "Kurtosis:                       6.507   Cond. No.                         26.1\n",
      "==============================================================================\n",
      "\n",
      "Notes:\n",
      "[1] Standard Errors assume that the covariance matrix of the errors is correctly specified.\n"
     ]
    }
   ],
   "source": [
    "formula = 'converted ~ C(group) + C(country) + C(group)*C(country)'\n",
    "lm2 = ols(formula, data3).fit()\n",
    "print(lm2.summary())"
   ]
  },
  {
   "cell_type": "markdown",
   "id": "67c6ffb9-5beb-4398-a8e0-96cf014e73b2",
   "metadata": {},
   "source": [
    "# F Test for Nested Linear Models\n",
    "ml1: y = ax + b + c1\\*z1 + c2*z2 \\\n",
    "ml2: y = a\\*x + b + c1\\*z1 + c2\\*z2 + h1\\*x\\*z1 + h2\\*x\\*z2 \\\n",
    "F Test to determine whether there is a statistically significant difference with or without the interaction terms, h1\\*x\\*z1 + h2\\*x\\*z2."
   ]
  },
  {
   "cell_type": "code",
   "execution_count": 20,
   "id": "2716271e-36ba-4a7a-bce2-c70af2cd610d",
   "metadata": {},
   "outputs": [
    {
     "name": "stdout",
     "output_type": "stream",
     "text": [
      "   df_resid           ssr  df_diff   ss_diff        F    Pr(>F)\n",
      "0  286687.0  30154.037295      0.0       NaN      NaN       NaN\n",
      "1  286685.0  30153.767849      2.0  0.269446  1.28087  0.277797\n"
     ]
    }
   ],
   "source": [
    "anovaResults = anova_lm(lm1, lm2)\n",
    "print(anovaResults)"
   ]
  },
  {
   "cell_type": "code",
   "execution_count": null,
   "id": "3680a017-dbb4-4365-99ab-b7e9cf73e4a1",
   "metadata": {},
   "outputs": [],
   "source": []
  }
 ],
 "metadata": {
  "kernelspec": {
   "display_name": "Python 3 (ipykernel)",
   "language": "python",
   "name": "python3"
  },
  "language_info": {
   "codemirror_mode": {
    "name": "ipython",
    "version": 3
   },
   "file_extension": ".py",
   "mimetype": "text/x-python",
   "name": "python",
   "nbconvert_exporter": "python",
   "pygments_lexer": "ipython3",
   "version": "3.8.11"
  }
 },
 "nbformat": 4,
 "nbformat_minor": 5
}
